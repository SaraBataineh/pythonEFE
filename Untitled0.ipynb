{
  "nbformat": 4,
  "nbformat_minor": 0,
  "metadata": {
    "colab": {
      "provenance": [],
      "authorship_tag": "ABX9TyOb7GKanJAQFrv3/OEUZ4Qx",
      "include_colab_link": true
    },
    "kernelspec": {
      "name": "python3",
      "display_name": "Python 3"
    },
    "language_info": {
      "name": "python"
    }
  },
  "cells": [
    {
      "cell_type": "markdown",
      "metadata": {
        "id": "view-in-github",
        "colab_type": "text"
      },
      "source": [
        "<a href=\"https://colab.research.google.com/github/SaraBataineh/pythonEFE/blob/main/Untitled0.ipynb\" target=\"_parent\"><img src=\"https://colab.research.google.com/assets/colab-badge.svg\" alt=\"Open In Colab\"/></a>"
      ]
    },
    {
      "cell_type": "code",
      "source": [
        "import pandas as pd\n",
        "from sklearn.linear_model import LinearRegression\n",
        "import gradio as gr\n",
        "import numpy as np\n",
        "\n",
        "\n",
        "df = pd.read_csv(\"Student_Performance.csv\")\n",
        "\n",
        "\n",
        "df = df.drop_duplicates()\n",
        "\n",
        "\n",
        "df['Extracurricular Activities'] = df['Extracurricular Activities'].map({'Yes':1, 'No':0})\n",
        "\n",
        "\n",
        "X = df.drop(columns=['Performance Index'])\n",
        "y = df['Performance Index']\n",
        "\n",
        "\n",
        "model = LinearRegression()\n",
        "model.fit(X, y)\n",
        "\n",
        "\n",
        "def predict_performance(hours_studied, previous_scores, extracurricular, sleep_hours, sample_papers):\n",
        "    try:\n",
        "        hours_studied = float(hours_studied)\n",
        "        previous_scores = float(previous_scores)\n",
        "        sleep_hours = float(sleep_hours)\n",
        "        sample_papers = float(sample_papers)\n",
        "\n",
        "\n",
        "        if any(val < 0 for val in [hours_studied, previous_scores, sleep_hours, sample_papers]):\n",
        "            return \"Error: Negative values are not allowed.\"\n",
        "\n",
        "\n",
        "        extracurricular_num = 1 if extracurricular.lower() == 'yes' else 0\n",
        "\n",
        "\n",
        "        input_data = np.array([[hours_studied, previous_scores, extracurricular_num, sleep_hours, sample_papers]])\n",
        "\n",
        "\n",
        "        prediction = model.predict(input_data)[0]\n",
        "\n",
        "        return f\"Predicted Performance Index: {round(prediction, 2)}\"\n",
        "\n",
        "    except ValueError:\n",
        "        return \"Error: Please enter valid numeric values for all number fields.\"\n",
        "    except Exception as e:\n",
        "        return f\"An unexpected error occurred: {str(e)}\"\n",
        "\n",
        "\n",
        "iface = gr.Interface(\n",
        "    fn=predict_performance,\n",
        "    inputs=[\n",
        "        gr.Number(label=\"Hours Studied\", value=0, minimum=0),\n",
        "        gr.Number(label=\"Previous Scores\", value=0, minimum=0),\n",
        "        gr.Dropdown(label=\"Extracurricular Activities (Yes/No)\", choices=[\"Yes\", \"No\"], value=\"No\"),\n",
        "        gr.Number(label=\"Sleep Hours\", value=0, minimum=0),\n",
        "        gr.Number(label=\"Sample Question Papers Practiced\", value=0, minimum=0),\n",
        "    ],\n",
        "    outputs=gr.Textbox(label=\"Prediction Result\"),\n",
        "    title=\"Academic Performance Prediction - Linear Regression Model\",\n",
        "    description=\"Enter student data to predict the expected academic performance index.\",\n",
        "    allow_flagging=\"never\"\n",
        ")\n",
        "\n",
        "if __name__ == \"__main__\":\n",
        "    iface.launch()\n"
      ],
      "metadata": {
        "colab": {
          "base_uri": "https://localhost:8080/",
          "height": 680
        },
        "id": "JbPRiXYnV7ed",
        "outputId": "71a953bc-13cb-4f10-ce0d-44d7a03c472c"
      },
      "execution_count": 2,
      "outputs": [
        {
          "output_type": "stream",
          "name": "stderr",
          "text": [
            "/usr/local/lib/python3.11/dist-packages/gradio/interface.py:416: UserWarning: The `allow_flagging` parameter in `Interface` is deprecated.Use `flagging_mode` instead.\n",
            "  warnings.warn(\n"
          ]
        },
        {
          "output_type": "stream",
          "name": "stdout",
          "text": [
            "It looks like you are running Gradio on a hosted a Jupyter notebook. For the Gradio app to work, sharing must be enabled. Automatically setting `share=True` (you can turn this off by setting `share=False` in `launch()` explicitly).\n",
            "\n",
            "Colab notebook detected. To show errors in colab notebook, set debug=True in launch()\n",
            "* Running on public URL: https://b6eb23ce0e47f2425a.gradio.live\n",
            "\n",
            "This share link expires in 1 week. For free permanent hosting and GPU upgrades, run `gradio deploy` from the terminal in the working directory to deploy to Hugging Face Spaces (https://huggingface.co/spaces)\n"
          ]
        },
        {
          "output_type": "display_data",
          "data": {
            "text/plain": [
              "<IPython.core.display.HTML object>"
            ],
            "text/html": [
              "<div><iframe src=\"https://b6eb23ce0e47f2425a.gradio.live\" width=\"100%\" height=\"500\" allow=\"autoplay; camera; microphone; clipboard-read; clipboard-write;\" frameborder=\"0\" allowfullscreen></iframe></div>"
            ]
          },
          "metadata": {}
        }
      ]
    },
    {
      "cell_type": "code",
      "source": [
        "print(df.columns)\n"
      ],
      "metadata": {
        "colab": {
          "base_uri": "https://localhost:8080/"
        },
        "id": "Gxyu5DfdWWm-",
        "outputId": "eb4e8c22-6f00-404f-cacd-56fcff051cbb"
      },
      "execution_count": 23,
      "outputs": [
        {
          "output_type": "stream",
          "name": "stdout",
          "text": [
            "Index(['Hours Studied', 'Previous Scores', 'Extracurricular Activities',\n",
            "       'Sleep Hours', 'Sample Question Papers Practiced', 'Performance Index'],\n",
            "      dtype='object')\n"
          ]
        }
      ]
    }
  ]
}